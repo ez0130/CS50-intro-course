{
  "nbformat": 4,
  "nbformat_minor": 0,
  "metadata": {
    "colab": {
      "name": "zillow capcha passthrough.ipynb",
      "provenance": [],
      "collapsed_sections": [],
      "authorship_tag": "ABX9TyOPd7H9I02HTEeKXMWs8ipB",
      "include_colab_link": true
    },
    "kernelspec": {
      "name": "python3",
      "display_name": "Python 3"
    },
    "language_info": {
      "name": "python"
    }
  },
  "cells": [
    {
      "cell_type": "markdown",
      "metadata": {
        "id": "view-in-github",
        "colab_type": "text"
      },
      "source": [
        "<a href=\"https://colab.research.google.com/github/ez0130/CS50-intro-course/blob/master/zillow_zillow_house%20aspects%20(captcha%20bypass).ipynb\" target=\"_parent\"><img src=\"https://colab.research.google.com/assets/colab-badge.svg\" alt=\"Open In Colab\"/></a>"
      ]
    },
    {
      "cell_type": "code",
      "execution_count": 206,
      "metadata": {
        "id": "ZMHM9Z4xzZP4"
      },
      "outputs": [],
      "source": [
        "from bs4 import BeautifulSoup\n",
        "import re\n"
      ]
    },
    {
      "cell_type": "code",
      "source": [
        "import requests\n",
        "\n",
        "\n",
        "req_headers = {\n",
        "    'accept': 'text/html,application/xhtml+xml,application/xml;q=0.9,image/webp,image/apng,*/*;q=0.8',\n",
        "    'accept-encoding': 'gzip, deflate, br',\n",
        "    'accept-language': 'en-US,en;q=0.8',\n",
        "    'upgrade-insecure-requests': '1',\n",
        "    'user-agent': 'Mozilla/5.0 (Windows NT 10.0; Win64; x64) AppleWebKit/537.36 (KHTML, like Gecko) Chrome/61.0.3163.100 Safari/537.36'\n",
        "}\n",
        "with requests.Session() as s:\n",
        "   city = 'seattle/' #*****change this city to what you want*****\n",
        "   url = 'https://www.zillow.com/homedetails/4912-Dovercliff-Cv-Austin-TX-78754/29415825_zpid/?'\n",
        "   r = s.get(url, headers=req_headers)\n",
        "html = r.text"
      ],
      "metadata": {
        "id": "tDcShbHPznBM"
      },
      "execution_count": 207,
      "outputs": []
    },
    {
      "cell_type": "markdown",
      "source": [
        "Price"
      ],
      "metadata": {
        "id": "9CcpsXzi22yb"
      }
    },
    {
      "cell_type": "code",
      "source": [
        "soup = BeautifulSoup(html, \"lxml\")\n",
        "tags = soup.select(\"#ds-container > div.ds-data-col.ds-white-bg.ds-data-col-data-forward > div.hdp__sc-1tsvzbc-1.ds-chip > div > div.ds-summary-row-container > div > div > span > span > span\")\n",
        "price = tags[0]\n",
        "print(price.text)\n",
        "\n"
      ],
      "metadata": {
        "colab": {
          "base_uri": "https://localhost:8080/"
        },
        "id": "GP9sPnuG11C5",
        "outputId": "4839365e-4dde-4ab9-e732-958ef2f62dd6"
      },
      "execution_count": 208,
      "outputs": [
        {
          "output_type": "stream",
          "name": "stdout",
          "text": [
            "$425,000\n"
          ]
        }
      ]
    },
    {
      "cell_type": "markdown",
      "source": [
        "SQfeet\n"
      ],
      "metadata": {
        "id": "OaFEoevyBDO8"
      }
    },
    {
      "cell_type": "code",
      "source": [
        "soup = BeautifulSoup(html, \"lxml\")\n",
        "tags = soup.select(\"#ds-container > div.ds-data-col.ds-white-bg.ds-data-col-data-forward > div.hdp__sc-1tsvzbc-1.ds-chip > div > div.ds-summary-row-container > div > div > div > span > span:nth-of-type(4) > span\") \n",
        "sqfeet = tags[0]\n",
        "print(sqfeet.text)"
      ],
      "metadata": {
        "colab": {
          "base_uri": "https://localhost:8080/"
        },
        "id": "9Yej6YSrBEu4",
        "outputId": "c32243c9-7b04-4269-cdc2-6d90fc051571"
      },
      "execution_count": 209,
      "outputs": [
        {
          "output_type": "stream",
          "name": "stdout",
          "text": [
            "1,385\n"
          ]
        }
      ]
    },
    {
      "cell_type": "markdown",
      "source": [
        "bedroom"
      ],
      "metadata": {
        "id": "g-AJny843ANI"
      }
    },
    {
      "cell_type": "code",
      "source": [
        "soup = BeautifulSoup(html, \"lxml\")\n",
        "tags = soup.select(\"#ds-container > div.ds-data-col.ds-white-bg.ds-data-col-data-forward > div.hdp__sc-1tsvzbc-1.ds-chip > div > div.ds-summary-row-container > div > div > div > span > span\") \n",
        "bedroom = tags[0]\n",
        "print(bedroom.text)"
      ],
      "metadata": {
        "colab": {
          "base_uri": "https://localhost:8080/"
        },
        "id": "8rWCp7A83XrF",
        "outputId": "1d05675f-d22c-477d-cd4f-f14c77572e42"
      },
      "execution_count": 210,
      "outputs": [
        {
          "output_type": "stream",
          "name": "stdout",
          "text": [
            "4 bd\n"
          ]
        }
      ]
    },
    {
      "cell_type": "markdown",
      "source": [
        "bathroom"
      ],
      "metadata": {
        "id": "fHxwXjrK3DXG"
      }
    },
    {
      "cell_type": "code",
      "source": [
        "soup = BeautifulSoup(html, \"lxml\")\n",
        "tags = soup.select(\"#ds-container > div.ds-data-col.ds-white-bg.ds-data-col-data-forward > div.hdp__sc-1tsvzbc-1.ds-chip > div > div.ds-summary-row-container > div > div > div > span > button > span > span\") \n",
        "bathroom = tags[0]\n",
        "print(bathroom.text)"
      ],
      "metadata": {
        "colab": {
          "base_uri": "https://localhost:8080/"
        },
        "id": "4uO86X5W3FMz",
        "outputId": "388ff822-0bb5-4f6e-b82d-aa0015804b6b"
      },
      "execution_count": 211,
      "outputs": [
        {
          "output_type": "stream",
          "name": "stdout",
          "text": [
            "3\n"
          ]
        }
      ]
    },
    {
      "cell_type": "markdown",
      "source": [
        "address"
      ],
      "metadata": {
        "id": "n4ftb8kj3FZr"
      }
    },
    {
      "cell_type": "code",
      "source": [
        "soup = BeautifulSoup(html, \"lxml\")\n",
        "tags = soup.select(\"#ds-chip-property-address > span\") \n",
        "address = tags[0]\n",
        "print(address.text)"
      ],
      "metadata": {
        "colab": {
          "base_uri": "https://localhost:8080/"
        },
        "id": "YHJCh0dR3JWY",
        "outputId": "ca2b9fb5-a214-4682-dca3-216592d7b434"
      },
      "execution_count": 212,
      "outputs": [
        {
          "output_type": "stream",
          "name": "stdout",
          "text": [
            "4912 Dovercliff Cv,\n"
          ]
        }
      ]
    },
    {
      "cell_type": "markdown",
      "source": [
        "built year"
      ],
      "metadata": {
        "id": "B34zmhmd3JCF"
      }
    },
    {
      "cell_type": "code",
      "source": [
        "soup = BeautifulSoup(html, \"lxml\")\n",
        "tags = soup.select(\"#ds-data-view > ul > li:nth-of-type(5) > div:nth-of-type(2) > div > div.hdp__sc-1j01zad-0.bNxDKz > div.hdp__sc-1j01zad-1.hmkpQE > div > ul > li:nth-of-type(4) > span.Text-c11n-8-63-0__sc-aiai24-0.dpf__sc-2arhs5-3.gbKiss.btxEYg\") \n",
        "builtyear = tags[0]\n",
        "print(builtyear.text)"
      ],
      "metadata": {
        "colab": {
          "base_uri": "https://localhost:8080/"
        },
        "id": "pXUDCm3h3L_f",
        "outputId": "da7a5232-848f-4c4f-f8e4-4c04dfbe0582"
      },
      "execution_count": 213,
      "outputs": [
        {
          "output_type": "stream",
          "name": "stdout",
          "text": [
            "Built in 1996\n"
          ]
        }
      ]
    },
    {
      "cell_type": "markdown",
      "source": [
        "Lot size"
      ],
      "metadata": {
        "id": "QgVZbTpD3MSR"
      }
    },
    {
      "cell_type": "code",
      "source": [
        "soup = BeautifulSoup(html, \"lxml\")\n",
        "tags = soup.select(\"#ds-data-view > ul > li:nth-of-type(5) > div:nth-of-type(2) > div > div.hdp__sc-1j01zad-0.bNxDKz > div.hdp__sc-1j01zad-1.hmkpQE > div > ul > li:nth-of-type(9) > span.Text-c11n-8-63-0__sc-aiai24-0.dpf__sc-2arhs5-3.gbKiss.btxEYg\") \n",
        "Lotsize= tags[0]\n",
        "lotsize = str(Lotsize.text)[:-4]\n",
        "lotsize = re.sub(',', '', lotsize)\n",
        "lotsize0 = int(lotsize)\n",
        "if lotsize0 < 1:\n",
        "  lotsize0 = lotsize0 * 43560\n",
        "print(lotsize0)\n"
      ],
      "metadata": {
        "colab": {
          "base_uri": "https://localhost:8080/"
        },
        "id": "etSL6irv3Nvk",
        "outputId": "84be5bc7-8bd4-4ac0-ece5-2deaf652f2fa"
      },
      "execution_count": 214,
      "outputs": [
        {
          "output_type": "stream",
          "name": "stdout",
          "text": [
            "6577\n"
          ]
        }
      ]
    },
    {
      "cell_type": "markdown",
      "source": [
        "HOA"
      ],
      "metadata": {
        "id": "A2_vKDli3OCV"
      }
    },
    {
      "cell_type": "code",
      "source": [
        "soup = BeautifulSoup(html, \"lxml\")\n",
        "tags = soup.select(\"#ds-data-view > ul > li:nth-of-type(5) > div:nth-of-type(2) > div > div.hdp__sc-1j01zad-0.bNxDKz > div.hdp__sc-1j01zad-1.hmkpQE > div > ul > li:nth-of-type(8) > span.Text-c11n-8-63-0__sc-aiai24-0.dpf__sc-2arhs5-3.gbKiss.btxEYg\") \n",
        "HOA = tags[0]\n",
        "print(HOA.text)"
      ],
      "metadata": {
        "colab": {
          "base_uri": "https://localhost:8080/"
        },
        "id": "MIzMv6zk9Ma4",
        "outputId": "d0810bc4-08e2-480c-8df5-59ac156e548e"
      },
      "execution_count": 215,
      "outputs": [
        {
          "output_type": "stream",
          "name": "stdout",
          "text": [
            "$60 annually HOA fee\n"
          ]
        }
      ]
    },
    {
      "cell_type": "markdown",
      "source": [
        "elemantary"
      ],
      "metadata": {
        "id": "M99szNdg3RuN"
      }
    },
    {
      "cell_type": "code",
      "source": [
        "soup = BeautifulSoup(html, \"lxml\")\n",
        "tags = soup.select(\"#ds-nearby-schools-list > li:nth-of-type(1) > div.hdp__sc-12m9m4o-1.bIcTBN > div > span.Text-c11n-8-63-0__sc-aiai24-0.kHCdln\") \n",
        "elementary = tags[0]\n",
        "print(elementary.text)"
      ],
      "metadata": {
        "colab": {
          "base_uri": "https://localhost:8080/"
        },
        "id": "GtB7BeGh3S8P",
        "outputId": "83193363-5710-4a05-8c3c-040efda171b4"
      },
      "execution_count": 216,
      "outputs": [
        {
          "output_type": "stream",
          "name": "stdout",
          "text": [
            "4\n"
          ]
        }
      ]
    },
    {
      "cell_type": "markdown",
      "source": [
        "middleschool"
      ],
      "metadata": {
        "id": "5EgLeWF23TIP"
      }
    },
    {
      "cell_type": "code",
      "source": [
        "soup = BeautifulSoup(html, \"lxml\")\n",
        "tags = soup.select(\"#ds-nearby-schools-list > li:nth-of-type(2) > div.hdp__sc-12m9m4o-1.bIcTBN > div > span.Text-c11n-8-63-0__sc-aiai24-0.kHCdln\") \n",
        "middleschool = tags[0]\n",
        "print(middleschool.text)"
      ],
      "metadata": {
        "colab": {
          "base_uri": "https://localhost:8080/"
        },
        "id": "7ueqEZWA3Uvz",
        "outputId": "bd114dfa-3adc-4a06-9965-dbe582e89029"
      },
      "execution_count": 217,
      "outputs": [
        {
          "output_type": "stream",
          "name": "stdout",
          "text": [
            "3\n"
          ]
        }
      ]
    },
    {
      "cell_type": "markdown",
      "source": [
        "highschool"
      ],
      "metadata": {
        "id": "X559ANuf3VAl"
      }
    },
    {
      "cell_type": "code",
      "source": [
        "soup = BeautifulSoup(html, \"lxml\")\n",
        "tags = soup.select(\"#ds-nearby-schools-list > li:nth-of-type(3) > div.hdp__sc-12m9m4o-1.bIcTBN > div > span.Text-c11n-8-63-0__sc-aiai24-0.kHCdln\") \n",
        "highschool = tags[0]\n",
        "print(highschool.text)"
      ],
      "metadata": {
        "colab": {
          "base_uri": "https://localhost:8080/"
        },
        "id": "vkFoRcPZ3VZH",
        "outputId": "811a9f2a-8c62-4834-d780-56c48f80729c"
      },
      "execution_count": 218,
      "outputs": [
        {
          "output_type": "stream",
          "name": "stdout",
          "text": [
            "2\n"
          ]
        }
      ]
    },
    {
      "cell_type": "code",
      "source": [
        "import pandas as pd\n",
        "\n",
        "price0 =str(price.text)[1:]\n",
        "price0 = int(re.sub(',', '', price0))\n",
        "\n",
        "bedroom0 = bedroom.text[:1]\n",
        "sqfeet0 = re.sub(',','', str(sqfeet.text))\n",
        "\n",
        "bathroom0 = bathroom.text\n",
        "address0 = re.sub(',', '', str(address.text))\n",
        "builtyear0 = int(str(builtyear.text)[-4:])\n",
        "\n",
        "\n",
        "\n",
        "af = pd.DataFrame(eval(\"price0, sqfeet0, bedroom0, bathroom0, address0, builtyear0, lotsize0, HOA.text, elementary.text, middleschool.text, highschool.text\"))\n",
        "df = af.T\n",
        "print(df.to_string(index=False))\n",
        "df.to_excel(\"output.xlsx\")"
      ],
      "metadata": {
        "colab": {
          "base_uri": "https://localhost:8080/"
        },
        "id": "utHB2m7j95cr",
        "outputId": "b35489de-e67c-4ce1-fe5c-a4aaf92cbb20"
      },
      "execution_count": 219,
      "outputs": [
        {
          "output_type": "stream",
          "name": "stdout",
          "text": [
            "    0    1  2  3                  4    5    6                    7  8  9  10\n",
            "425000 1385  4  3 4912 Dovercliff Cv 1996 6577 $60 annually HOA fee  4  3  2\n"
          ]
        }
      ]
    }
  ]
}